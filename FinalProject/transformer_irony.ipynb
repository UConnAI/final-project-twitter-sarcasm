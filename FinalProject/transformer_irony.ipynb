{
  "metadata": {
    "kernelspec": {
      "language": "python",
      "display_name": "Python 3",
      "name": "python3"
    },
    "language_info": {
      "name": "python",
      "version": "3.7.12",
      "mimetype": "text/x-python",
      "codemirror_mode": {
        "name": "ipython",
        "version": 3
      },
      "pygments_lexer": "ipython3",
      "nbconvert_exporter": "python",
      "file_extension": ".py"
    },
    "colab": {
      "provenance": [],
      "gpuType": "T4"
    },
    "accelerator": "GPU",
    "gpuClass": "standard"
  },
  "nbformat_minor": 0,
  "nbformat": 4,
  "cells": [
    {
      "cell_type": "code",
      "source": [
        "import numpy as np \n",
        "import pandas as pd \n",
        "import os\n",
        "import matplotlib.pyplot as plt \n",
        "import seaborn as sns \n",
        "from wordcloud import WordCloud, STOPWORDS, ImageColorGenerator\n",
        "import plotly.express as px\n",
        "from plotly.offline import init_notebook_mode\n",
        "import re\n",
        "import nltk\n",
        "from nltk.corpus import stopwords\n",
        "from tqdm import tqdm\n",
        "from nltk.stem import WordNetLemmatizer\n",
        "import spacy\n",
        "\n",
        "nltk.download('wordnet')\n",
        "tqdm.pandas()\n",
        "spacy_eng = spacy.load(\"en_core_web_sm\")\n",
        "nltk.download('stopwords')\n",
        "lemm = WordNetLemmatizer()\n",
        "init_notebook_mode(connected=True)\n",
        "sns.set_style(\"darkgrid\")\n",
        "plt.rcParams['figure.figsize'] = (20,8)\n",
        "plt.rcParams['font.size'] = 18"
      ],
      "metadata": {
        "_uuid": "8f2839f25d086af736a60e9eeb907d3b93b6e0e5",
        "_cell_guid": "b1076dfc-b9ad-4769-8c92-a6c4dae69d19",
        "execution": {
          "iopub.status.busy": "2023-04-23T18:59:33.066231Z",
          "iopub.execute_input": "2023-04-23T18:59:33.066747Z"
        },
        "trusted": true,
        "colab": {
          "base_uri": "https://localhost:8080/",
          "height": 71
        },
        "id": "cunIk6MxldYL",
        "outputId": "57f73726-ae07-4581-e1e4-f949db47e0ac"
      },
      "execution_count": 1,
      "outputs": [
        {
          "output_type": "stream",
          "name": "stderr",
          "text": [
            "[nltk_data] Downloading package wordnet to /root/nltk_data...\n",
            "[nltk_data] Downloading package stopwords to /root/nltk_data...\n",
            "[nltk_data]   Unzipping corpora/stopwords.zip.\n"
          ]
        },
        {
          "output_type": "display_data",
          "data": {
            "text/html": [
              "        <script type=\"text/javascript\">\n",
              "        window.PlotlyConfig = {MathJaxConfig: 'local'};\n",
              "        if (window.MathJax && window.MathJax.Hub && window.MathJax.Hub.Config) {window.MathJax.Hub.Config({SVG: {font: \"STIX-Web\"}});}\n",
              "        if (typeof require !== 'undefined') {\n",
              "        require.undef(\"plotly\");\n",
              "        requirejs.config({\n",
              "            paths: {\n",
              "                'plotly': ['https://cdn.plot.ly/plotly-2.18.2.min']\n",
              "            }\n",
              "        });\n",
              "        require(['plotly'], function(Plotly) {\n",
              "            window._Plotly = Plotly;\n",
              "        });\n",
              "        }\n",
              "        </script>\n",
              "        "
            ]
          },
          "metadata": {}
        }
      ]
    },
    {
      "cell_type": "markdown",
      "source": [
        "# 1. Getting the Data"
      ],
      "metadata": {
        "id": "K0YOis01zS9K"
      }
    },
    {
      "cell_type": "code",
      "source": [
        "def irony_and_sarcasm(row):\n",
        "  return 1 if row[\"class\"] == \"irony\" or row[\"class\"] == \"sarcasm\" else 0\n",
        "\n",
        "train_set = pd.read_csv(\"/content/train.csv\")\n",
        "train_set[\"irony\"] = train_set.apply(lambda row: irony_and_sarcasm(row), axis = 1)\n",
        "test_set = pd.read_csv(\"/content/test.csv\")\n",
        "test_set[\"irony\"] = test_set.apply(lambda row: irony_and_sarcasm(row), axis = 1)\n",
        "\n",
        "data_train = train_set[['tweets','irony']]\n",
        "data_test = test_set[['tweets','irony']]\n",
        "\n",
        "data = pd.concat([data_train, data_test],axis=0)"
      ],
      "metadata": {
        "execution": {
          "iopub.status.busy": "2022-07-01T10:14:02.046057Z",
          "iopub.execute_input": "2022-07-01T10:14:02.046455Z",
          "iopub.status.idle": "2022-07-01T10:14:02.739687Z",
          "shell.execute_reply.started": "2022-07-01T10:14:02.046421Z",
          "shell.execute_reply": "2022-07-01T10:14:02.738627Z"
        },
        "trusted": true,
        "id": "4Xu7r_asldYO"
      },
      "execution_count": 3,
      "outputs": []
    },
    {
      "cell_type": "code",
      "source": [
        "data"
      ],
      "metadata": {
        "execution": {
          "iopub.status.busy": "2022-07-01T10:14:03.356721Z",
          "iopub.execute_input": "2022-07-01T10:14:03.35711Z",
          "iopub.status.idle": "2022-07-01T10:14:03.36877Z",
          "shell.execute_reply.started": "2022-07-01T10:14:03.357081Z",
          "shell.execute_reply": "2022-07-01T10:14:03.367987Z"
        },
        "trusted": true,
        "colab": {
          "base_uri": "https://localhost:8080/",
          "height": 424
        },
        "id": "4dmmlRo3ldYP",
        "outputId": "6f9478d6-e047-4421-8461-176c7eb36904"
      },
      "execution_count": 4,
      "outputs": [
        {
          "output_type": "execute_result",
          "data": {
            "text/plain": [
              "                                                 tweets  irony\n",
              "0     Be aware  dirty step to get money  #staylight ...      0\n",
              "1     #sarcasm for #people who don't understand #diy...      0\n",
              "2     @IminworkJeremy @medsingle #DailyMail readers ...      0\n",
              "3     @wilw Why do I get the feeling you like games?...      0\n",
              "4     -@TeacherArthurG @rweingarten You probably jus...      0\n",
              "...                                                 ...    ...\n",
              "8123  Why yes I will totally submit my photos to a s...      1\n",
              "8124  Test on a Saturday! Thank you uni! #sarcasm @ ...      1\n",
              "8125  Listening to @StephenKing's Misery isn't at al...      1\n",
              "8126  @mmcpatt There you go being kind again #sarcas...      1\n",
              "8127  I'm shocked that these refs in the tcu vs minn...      1\n",
              "\n",
              "[89536 rows x 2 columns]"
            ],
            "text/html": [
              "\n",
              "  <div id=\"df-4347c17a-e8ed-4bdf-999c-5585aafad697\">\n",
              "    <div class=\"colab-df-container\">\n",
              "      <div>\n",
              "<style scoped>\n",
              "    .dataframe tbody tr th:only-of-type {\n",
              "        vertical-align: middle;\n",
              "    }\n",
              "\n",
              "    .dataframe tbody tr th {\n",
              "        vertical-align: top;\n",
              "    }\n",
              "\n",
              "    .dataframe thead th {\n",
              "        text-align: right;\n",
              "    }\n",
              "</style>\n",
              "<table border=\"1\" class=\"dataframe\">\n",
              "  <thead>\n",
              "    <tr style=\"text-align: right;\">\n",
              "      <th></th>\n",
              "      <th>tweets</th>\n",
              "      <th>irony</th>\n",
              "    </tr>\n",
              "  </thead>\n",
              "  <tbody>\n",
              "    <tr>\n",
              "      <th>0</th>\n",
              "      <td>Be aware  dirty step to get money  #staylight ...</td>\n",
              "      <td>0</td>\n",
              "    </tr>\n",
              "    <tr>\n",
              "      <th>1</th>\n",
              "      <td>#sarcasm for #people who don't understand #diy...</td>\n",
              "      <td>0</td>\n",
              "    </tr>\n",
              "    <tr>\n",
              "      <th>2</th>\n",
              "      <td>@IminworkJeremy @medsingle #DailyMail readers ...</td>\n",
              "      <td>0</td>\n",
              "    </tr>\n",
              "    <tr>\n",
              "      <th>3</th>\n",
              "      <td>@wilw Why do I get the feeling you like games?...</td>\n",
              "      <td>0</td>\n",
              "    </tr>\n",
              "    <tr>\n",
              "      <th>4</th>\n",
              "      <td>-@TeacherArthurG @rweingarten You probably jus...</td>\n",
              "      <td>0</td>\n",
              "    </tr>\n",
              "    <tr>\n",
              "      <th>...</th>\n",
              "      <td>...</td>\n",
              "      <td>...</td>\n",
              "    </tr>\n",
              "    <tr>\n",
              "      <th>8123</th>\n",
              "      <td>Why yes I will totally submit my photos to a s...</td>\n",
              "      <td>1</td>\n",
              "    </tr>\n",
              "    <tr>\n",
              "      <th>8124</th>\n",
              "      <td>Test on a Saturday! Thank you uni! #sarcasm @ ...</td>\n",
              "      <td>1</td>\n",
              "    </tr>\n",
              "    <tr>\n",
              "      <th>8125</th>\n",
              "      <td>Listening to @StephenKing's Misery isn't at al...</td>\n",
              "      <td>1</td>\n",
              "    </tr>\n",
              "    <tr>\n",
              "      <th>8126</th>\n",
              "      <td>@mmcpatt There you go being kind again #sarcas...</td>\n",
              "      <td>1</td>\n",
              "    </tr>\n",
              "    <tr>\n",
              "      <th>8127</th>\n",
              "      <td>I'm shocked that these refs in the tcu vs minn...</td>\n",
              "      <td>1</td>\n",
              "    </tr>\n",
              "  </tbody>\n",
              "</table>\n",
              "<p>89536 rows × 2 columns</p>\n",
              "</div>\n",
              "      <button class=\"colab-df-convert\" onclick=\"convertToInteractive('df-4347c17a-e8ed-4bdf-999c-5585aafad697')\"\n",
              "              title=\"Convert this dataframe to an interactive table.\"\n",
              "              style=\"display:none;\">\n",
              "        \n",
              "  <svg xmlns=\"http://www.w3.org/2000/svg\" height=\"24px\"viewBox=\"0 0 24 24\"\n",
              "       width=\"24px\">\n",
              "    <path d=\"M0 0h24v24H0V0z\" fill=\"none\"/>\n",
              "    <path d=\"M18.56 5.44l.94 2.06.94-2.06 2.06-.94-2.06-.94-.94-2.06-.94 2.06-2.06.94zm-11 1L8.5 8.5l.94-2.06 2.06-.94-2.06-.94L8.5 2.5l-.94 2.06-2.06.94zm10 10l.94 2.06.94-2.06 2.06-.94-2.06-.94-.94-2.06-.94 2.06-2.06.94z\"/><path d=\"M17.41 7.96l-1.37-1.37c-.4-.4-.92-.59-1.43-.59-.52 0-1.04.2-1.43.59L10.3 9.45l-7.72 7.72c-.78.78-.78 2.05 0 2.83L4 21.41c.39.39.9.59 1.41.59.51 0 1.02-.2 1.41-.59l7.78-7.78 2.81-2.81c.8-.78.8-2.07 0-2.86zM5.41 20L4 18.59l7.72-7.72 1.47 1.35L5.41 20z\"/>\n",
              "  </svg>\n",
              "      </button>\n",
              "      \n",
              "  <style>\n",
              "    .colab-df-container {\n",
              "      display:flex;\n",
              "      flex-wrap:wrap;\n",
              "      gap: 12px;\n",
              "    }\n",
              "\n",
              "    .colab-df-convert {\n",
              "      background-color: #E8F0FE;\n",
              "      border: none;\n",
              "      border-radius: 50%;\n",
              "      cursor: pointer;\n",
              "      display: none;\n",
              "      fill: #1967D2;\n",
              "      height: 32px;\n",
              "      padding: 0 0 0 0;\n",
              "      width: 32px;\n",
              "    }\n",
              "\n",
              "    .colab-df-convert:hover {\n",
              "      background-color: #E2EBFA;\n",
              "      box-shadow: 0px 1px 2px rgba(60, 64, 67, 0.3), 0px 1px 3px 1px rgba(60, 64, 67, 0.15);\n",
              "      fill: #174EA6;\n",
              "    }\n",
              "\n",
              "    [theme=dark] .colab-df-convert {\n",
              "      background-color: #3B4455;\n",
              "      fill: #D2E3FC;\n",
              "    }\n",
              "\n",
              "    [theme=dark] .colab-df-convert:hover {\n",
              "      background-color: #434B5C;\n",
              "      box-shadow: 0px 1px 3px 1px rgba(0, 0, 0, 0.15);\n",
              "      filter: drop-shadow(0px 1px 2px rgba(0, 0, 0, 0.3));\n",
              "      fill: #FFFFFF;\n",
              "    }\n",
              "  </style>\n",
              "\n",
              "      <script>\n",
              "        const buttonEl =\n",
              "          document.querySelector('#df-4347c17a-e8ed-4bdf-999c-5585aafad697 button.colab-df-convert');\n",
              "        buttonEl.style.display =\n",
              "          google.colab.kernel.accessAllowed ? 'block' : 'none';\n",
              "\n",
              "        async function convertToInteractive(key) {\n",
              "          const element = document.querySelector('#df-4347c17a-e8ed-4bdf-999c-5585aafad697');\n",
              "          const dataTable =\n",
              "            await google.colab.kernel.invokeFunction('convertToInteractive',\n",
              "                                                     [key], {});\n",
              "          if (!dataTable) return;\n",
              "\n",
              "          const docLinkHtml = 'Like what you see? Visit the ' +\n",
              "            '<a target=\"_blank\" href=https://colab.research.google.com/notebooks/data_table.ipynb>data table notebook</a>'\n",
              "            + ' to learn more about interactive tables.';\n",
              "          element.innerHTML = '';\n",
              "          dataTable['output_type'] = 'display_data';\n",
              "          await google.colab.output.renderOutput(dataTable, element);\n",
              "          const docLink = document.createElement('div');\n",
              "          docLink.innerHTML = docLinkHtml;\n",
              "          element.appendChild(docLink);\n",
              "        }\n",
              "      </script>\n",
              "    </div>\n",
              "  </div>\n",
              "  "
            ]
          },
          "metadata": {},
          "execution_count": 4
        }
      ]
    },
    {
      "cell_type": "code",
      "source": [
        "data.dropna(inplace=True)\n",
        "\n",
        "print(data.info())\n",
        "print(round(data['irony'].value_counts()*100/len(data),2))"
      ],
      "metadata": {
        "colab": {
          "base_uri": "https://localhost:8080/"
        },
        "id": "nPFgyCCPz9Hu",
        "outputId": "e32ce390-c0d4-4eae-f34b-0a35e264179a"
      },
      "execution_count": 5,
      "outputs": [
        {
          "output_type": "stream",
          "name": "stdout",
          "text": [
            "<class 'pandas.core.frame.DataFrame'>\n",
            "Int64Index: 89534 entries, 0 to 8127\n",
            "Data columns (total 2 columns):\n",
            " #   Column  Non-Null Count  Dtype \n",
            "---  ------  --------------  ----- \n",
            " 0   tweets  89534 non-null  object\n",
            " 1   irony   89534 non-null  int64 \n",
            "dtypes: int64(1), object(1)\n",
            "memory usage: 2.0+ MB\n",
            "None\n",
            "1    51.14\n",
            "0    48.86\n",
            "Name: irony, dtype: float64\n"
          ]
        }
      ]
    },
    {
      "cell_type": "markdown",
      "source": [
        "# 2. Data Preprocessing"
      ],
      "metadata": {
        "id": "zIcec0IgldYP"
      }
    },
    {
      "cell_type": "code",
      "source": [
        "# use NER (named entity recogition) to identify numbers\n",
        "# similar to gate tokenization\n",
        "\n",
        "stop_words = stopwords.words('english')\n",
        "stop_words.remove('not')\n",
        "\n",
        "def text_cleaning(x):\n",
        "    \n",
        "    tweet = re.sub('\\s+\\n+', ' ', x)\n",
        "    tweet = re.sub('[^a-zA-Z0-9]', ' ', x)\n",
        "    tweet = tweet.lower()\n",
        "    tweet = tweet.split()\n",
        "    \n",
        "    tweet = [lemm.lemmatize(word, \"v\") for word in tweet if not word in stop_words]\n",
        "    tweet = ' '.join(tweet)\n",
        "    \n",
        "    return tweet"
      ],
      "metadata": {
        "execution": {
          "iopub.status.busy": "2022-07-01T10:16:06.572015Z",
          "iopub.execute_input": "2022-07-01T10:16:06.572373Z",
          "iopub.status.idle": "2022-07-01T10:16:06.579439Z",
          "shell.execute_reply.started": "2022-07-01T10:16:06.572344Z",
          "shell.execute_reply": "2022-07-01T10:16:06.578635Z"
        },
        "trusted": true,
        "id": "uYjLvkjwldYQ"
      },
      "execution_count": 6,
      "outputs": []
    },
    {
      "cell_type": "code",
      "source": [
        "def get_entities(x):\n",
        "    entity = []\n",
        "    text = spacy_eng(x)\n",
        "    for word in text.ents:\n",
        "        entity.append(word.label_)\n",
        "    return \",\".join(entity)\n",
        "\n",
        "data['entity'] = data['tweets'].progress_apply(get_entities)"
      ],
      "metadata": {
        "execution": {
          "iopub.status.busy": "2022-07-01T10:16:11.631863Z",
          "iopub.execute_input": "2022-07-01T10:16:11.632246Z",
          "iopub.status.idle": "2022-07-01T10:23:23.886484Z",
          "shell.execute_reply.started": "2022-07-01T10:16:11.632213Z",
          "shell.execute_reply": "2022-07-01T10:23:23.885136Z"
        },
        "trusted": true,
        "colab": {
          "base_uri": "https://localhost:8080/"
        },
        "id": "3vBaznUxldYR",
        "outputId": "74ba5b0e-6b8d-4e6d-ca5d-bd7f29cb6f39"
      },
      "execution_count": 7,
      "outputs": [
        {
          "output_type": "stream",
          "name": "stderr",
          "text": [
            "100%|██████████| 89534/89534 [11:34<00:00, 128.99it/s]\n"
          ]
        }
      ]
    },
    {
      "cell_type": "code",
      "source": [
        "data['clean_tweet'] = data['tweets'].apply(text_cleaning)"
      ],
      "metadata": {
        "execution": {
          "iopub.status.busy": "2022-07-01T10:25:03.020761Z",
          "iopub.execute_input": "2022-07-01T10:25:03.02118Z",
          "iopub.status.idle": "2022-07-01T10:25:06.265092Z",
          "shell.execute_reply.started": "2022-07-01T10:25:03.021145Z",
          "shell.execute_reply": "2022-07-01T10:25:06.263887Z"
        },
        "trusted": true,
        "id": "0zdG85ZBldYR"
      },
      "execution_count": 8,
      "outputs": []
    },
    {
      "cell_type": "code",
      "source": [
        "data['sentence_length'] = data['clean_tweet'].apply(lambda x: len(x.split()))\n",
        "data"
      ],
      "metadata": {
        "execution": {
          "iopub.status.busy": "2022-07-01T10:25:06.267128Z",
          "iopub.execute_input": "2022-07-01T10:25:06.267448Z",
          "iopub.status.idle": "2022-07-01T10:25:06.327211Z",
          "shell.execute_reply.started": "2022-07-01T10:25:06.267421Z",
          "shell.execute_reply": "2022-07-01T10:25:06.326016Z"
        },
        "trusted": true,
        "colab": {
          "base_uri": "https://localhost:8080/",
          "height": 641
        },
        "id": "-gZXwI3VldYR",
        "outputId": "ab1e110f-f723-45e2-d160-45818f3b1a35"
      },
      "execution_count": 9,
      "outputs": [
        {
          "output_type": "execute_result",
          "data": {
            "text/plain": [
              "                                                 tweets  irony  \\\n",
              "0     Be aware  dirty step to get money  #staylight ...      0   \n",
              "1     #sarcasm for #people who don't understand #diy...      0   \n",
              "2     @IminworkJeremy @medsingle #DailyMail readers ...      0   \n",
              "3     @wilw Why do I get the feeling you like games?...      0   \n",
              "4     -@TeacherArthurG @rweingarten You probably jus...      0   \n",
              "...                                                 ...    ...   \n",
              "8123  Why yes I will totally submit my photos to a s...      1   \n",
              "8124  Test on a Saturday! Thank you uni! #sarcasm @ ...      1   \n",
              "8125  Listening to @StephenKing's Misery isn't at al...      1   \n",
              "8126  @mmcpatt There you go being kind again #sarcas...      1   \n",
              "8127  I'm shocked that these refs in the tcu vs minn...      1   \n",
              "\n",
              "                              entity  \\\n",
              "0                        MONEY,MONEY   \n",
              "1     CARDINAL,CARDINAL,MONEY,PERSON   \n",
              "2                     MONEY,CARDINAL   \n",
              "3                             PERSON   \n",
              "4                                      \n",
              "...                              ...   \n",
              "8123                        CARDINAL   \n",
              "8124                 DATE,ORG,PERSON   \n",
              "8125                                   \n",
              "8126                           MONEY   \n",
              "8127                                   \n",
              "\n",
              "                                            clean_tweet  sentence_length  \n",
              "0     aware dirty step get money staylight staywhite...               12  \n",
              "1     sarcasm people understand diy artattack http c...                8  \n",
              "2     iminworkjeremy medsingle dailymail readers sen...               11  \n",
              "3                       wilw get feel like game sarcasm                6  \n",
              "4     teacherarthurg rweingarten probably miss text ...                6  \n",
              "...                                                 ...              ...  \n",
              "8123  yes totally submit photos shitty online magazi...               12  \n",
              "8124  test saturday thank uni sarcasm griffith unive...               12  \n",
              "8125       listen stephenking misery disconcert sarcasm                5  \n",
              "8126               mmcpatt go kind sarcasm standup4kids                5  \n",
              "8127         shock refs tcu vs minn game big 12 sarcasm                9  \n",
              "\n",
              "[89534 rows x 5 columns]"
            ],
            "text/html": [
              "\n",
              "  <div id=\"df-17ec3ffc-83b9-4b90-9abb-2114e3cb7794\">\n",
              "    <div class=\"colab-df-container\">\n",
              "      <div>\n",
              "<style scoped>\n",
              "    .dataframe tbody tr th:only-of-type {\n",
              "        vertical-align: middle;\n",
              "    }\n",
              "\n",
              "    .dataframe tbody tr th {\n",
              "        vertical-align: top;\n",
              "    }\n",
              "\n",
              "    .dataframe thead th {\n",
              "        text-align: right;\n",
              "    }\n",
              "</style>\n",
              "<table border=\"1\" class=\"dataframe\">\n",
              "  <thead>\n",
              "    <tr style=\"text-align: right;\">\n",
              "      <th></th>\n",
              "      <th>tweets</th>\n",
              "      <th>irony</th>\n",
              "      <th>entity</th>\n",
              "      <th>clean_tweet</th>\n",
              "      <th>sentence_length</th>\n",
              "    </tr>\n",
              "  </thead>\n",
              "  <tbody>\n",
              "    <tr>\n",
              "      <th>0</th>\n",
              "      <td>Be aware  dirty step to get money  #staylight ...</td>\n",
              "      <td>0</td>\n",
              "      <td>MONEY,MONEY</td>\n",
              "      <td>aware dirty step get money staylight staywhite...</td>\n",
              "      <td>12</td>\n",
              "    </tr>\n",
              "    <tr>\n",
              "      <th>1</th>\n",
              "      <td>#sarcasm for #people who don't understand #diy...</td>\n",
              "      <td>0</td>\n",
              "      <td>CARDINAL,CARDINAL,MONEY,PERSON</td>\n",
              "      <td>sarcasm people understand diy artattack http c...</td>\n",
              "      <td>8</td>\n",
              "    </tr>\n",
              "    <tr>\n",
              "      <th>2</th>\n",
              "      <td>@IminworkJeremy @medsingle #DailyMail readers ...</td>\n",
              "      <td>0</td>\n",
              "      <td>MONEY,CARDINAL</td>\n",
              "      <td>iminworkjeremy medsingle dailymail readers sen...</td>\n",
              "      <td>11</td>\n",
              "    </tr>\n",
              "    <tr>\n",
              "      <th>3</th>\n",
              "      <td>@wilw Why do I get the feeling you like games?...</td>\n",
              "      <td>0</td>\n",
              "      <td>PERSON</td>\n",
              "      <td>wilw get feel like game sarcasm</td>\n",
              "      <td>6</td>\n",
              "    </tr>\n",
              "    <tr>\n",
              "      <th>4</th>\n",
              "      <td>-@TeacherArthurG @rweingarten You probably jus...</td>\n",
              "      <td>0</td>\n",
              "      <td></td>\n",
              "      <td>teacherarthurg rweingarten probably miss text ...</td>\n",
              "      <td>6</td>\n",
              "    </tr>\n",
              "    <tr>\n",
              "      <th>...</th>\n",
              "      <td>...</td>\n",
              "      <td>...</td>\n",
              "      <td>...</td>\n",
              "      <td>...</td>\n",
              "      <td>...</td>\n",
              "    </tr>\n",
              "    <tr>\n",
              "      <th>8123</th>\n",
              "      <td>Why yes I will totally submit my photos to a s...</td>\n",
              "      <td>1</td>\n",
              "      <td>CARDINAL</td>\n",
              "      <td>yes totally submit photos shitty online magazi...</td>\n",
              "      <td>12</td>\n",
              "    </tr>\n",
              "    <tr>\n",
              "      <th>8124</th>\n",
              "      <td>Test on a Saturday! Thank you uni! #sarcasm @ ...</td>\n",
              "      <td>1</td>\n",
              "      <td>DATE,ORG,PERSON</td>\n",
              "      <td>test saturday thank uni sarcasm griffith unive...</td>\n",
              "      <td>12</td>\n",
              "    </tr>\n",
              "    <tr>\n",
              "      <th>8125</th>\n",
              "      <td>Listening to @StephenKing's Misery isn't at al...</td>\n",
              "      <td>1</td>\n",
              "      <td></td>\n",
              "      <td>listen stephenking misery disconcert sarcasm</td>\n",
              "      <td>5</td>\n",
              "    </tr>\n",
              "    <tr>\n",
              "      <th>8126</th>\n",
              "      <td>@mmcpatt There you go being kind again #sarcas...</td>\n",
              "      <td>1</td>\n",
              "      <td>MONEY</td>\n",
              "      <td>mmcpatt go kind sarcasm standup4kids</td>\n",
              "      <td>5</td>\n",
              "    </tr>\n",
              "    <tr>\n",
              "      <th>8127</th>\n",
              "      <td>I'm shocked that these refs in the tcu vs minn...</td>\n",
              "      <td>1</td>\n",
              "      <td></td>\n",
              "      <td>shock refs tcu vs minn game big 12 sarcasm</td>\n",
              "      <td>9</td>\n",
              "    </tr>\n",
              "  </tbody>\n",
              "</table>\n",
              "<p>89534 rows × 5 columns</p>\n",
              "</div>\n",
              "      <button class=\"colab-df-convert\" onclick=\"convertToInteractive('df-17ec3ffc-83b9-4b90-9abb-2114e3cb7794')\"\n",
              "              title=\"Convert this dataframe to an interactive table.\"\n",
              "              style=\"display:none;\">\n",
              "        \n",
              "  <svg xmlns=\"http://www.w3.org/2000/svg\" height=\"24px\"viewBox=\"0 0 24 24\"\n",
              "       width=\"24px\">\n",
              "    <path d=\"M0 0h24v24H0V0z\" fill=\"none\"/>\n",
              "    <path d=\"M18.56 5.44l.94 2.06.94-2.06 2.06-.94-2.06-.94-.94-2.06-.94 2.06-2.06.94zm-11 1L8.5 8.5l.94-2.06 2.06-.94-2.06-.94L8.5 2.5l-.94 2.06-2.06.94zm10 10l.94 2.06.94-2.06 2.06-.94-2.06-.94-.94-2.06-.94 2.06-2.06.94z\"/><path d=\"M17.41 7.96l-1.37-1.37c-.4-.4-.92-.59-1.43-.59-.52 0-1.04.2-1.43.59L10.3 9.45l-7.72 7.72c-.78.78-.78 2.05 0 2.83L4 21.41c.39.39.9.59 1.41.59.51 0 1.02-.2 1.41-.59l7.78-7.78 2.81-2.81c.8-.78.8-2.07 0-2.86zM5.41 20L4 18.59l7.72-7.72 1.47 1.35L5.41 20z\"/>\n",
              "  </svg>\n",
              "      </button>\n",
              "      \n",
              "  <style>\n",
              "    .colab-df-container {\n",
              "      display:flex;\n",
              "      flex-wrap:wrap;\n",
              "      gap: 12px;\n",
              "    }\n",
              "\n",
              "    .colab-df-convert {\n",
              "      background-color: #E8F0FE;\n",
              "      border: none;\n",
              "      border-radius: 50%;\n",
              "      cursor: pointer;\n",
              "      display: none;\n",
              "      fill: #1967D2;\n",
              "      height: 32px;\n",
              "      padding: 0 0 0 0;\n",
              "      width: 32px;\n",
              "    }\n",
              "\n",
              "    .colab-df-convert:hover {\n",
              "      background-color: #E2EBFA;\n",
              "      box-shadow: 0px 1px 2px rgba(60, 64, 67, 0.3), 0px 1px 3px 1px rgba(60, 64, 67, 0.15);\n",
              "      fill: #174EA6;\n",
              "    }\n",
              "\n",
              "    [theme=dark] .colab-df-convert {\n",
              "      background-color: #3B4455;\n",
              "      fill: #D2E3FC;\n",
              "    }\n",
              "\n",
              "    [theme=dark] .colab-df-convert:hover {\n",
              "      background-color: #434B5C;\n",
              "      box-shadow: 0px 1px 3px 1px rgba(0, 0, 0, 0.15);\n",
              "      filter: drop-shadow(0px 1px 2px rgba(0, 0, 0, 0.3));\n",
              "      fill: #FFFFFF;\n",
              "    }\n",
              "  </style>\n",
              "\n",
              "      <script>\n",
              "        const buttonEl =\n",
              "          document.querySelector('#df-17ec3ffc-83b9-4b90-9abb-2114e3cb7794 button.colab-df-convert');\n",
              "        buttonEl.style.display =\n",
              "          google.colab.kernel.accessAllowed ? 'block' : 'none';\n",
              "\n",
              "        async function convertToInteractive(key) {\n",
              "          const element = document.querySelector('#df-17ec3ffc-83b9-4b90-9abb-2114e3cb7794');\n",
              "          const dataTable =\n",
              "            await google.colab.kernel.invokeFunction('convertToInteractive',\n",
              "                                                     [key], {});\n",
              "          if (!dataTable) return;\n",
              "\n",
              "          const docLinkHtml = 'Like what you see? Visit the ' +\n",
              "            '<a target=\"_blank\" href=https://colab.research.google.com/notebooks/data_table.ipynb>data table notebook</a>'\n",
              "            + ' to learn more about interactive tables.';\n",
              "          element.innerHTML = '';\n",
              "          dataTable['output_type'] = 'display_data';\n",
              "          await google.colab.output.renderOutput(dataTable, element);\n",
              "          const docLink = document.createElement('div');\n",
              "          docLink.innerHTML = docLinkHtml;\n",
              "          element.appendChild(docLink);\n",
              "        }\n",
              "      </script>\n",
              "    </div>\n",
              "  </div>\n",
              "  "
            ]
          },
          "metadata": {},
          "execution_count": 9
        }
      ]
    },
    {
      "cell_type": "markdown",
      "source": [
        "# 3. Building the Model"
      ],
      "metadata": {
        "id": "rr2vriunldYV"
      }
    },
    {
      "cell_type": "code",
      "source": [
        "import tensorflow as tf\n",
        "from tensorflow.keras.preprocessing.text import Tokenizer\n",
        "from tensorflow.keras.preprocessing.sequence import pad_sequences\n",
        "from tensorflow.keras.utils import to_categorical\n",
        "from tensorflow.keras.models import Sequential, Model\n",
        "from tensorflow.keras import layers\n",
        "from tensorflow.keras.layers import Embedding, Layer, Dense, Dropout, MultiHeadAttention, LayerNormalization, Input, GlobalAveragePooling1D\n",
        "from tensorflow.keras.layers import LSTM, Bidirectional\n",
        "from tensorflow.keras.callbacks import ModelCheckpoint, EarlyStopping, ReduceLROnPlateau\n",
        "from sklearn.model_selection import train_test_split"
      ],
      "metadata": {
        "execution": {
          "iopub.status.busy": "2022-07-01T10:25:40.630565Z",
          "iopub.execute_input": "2022-07-01T10:25:40.630921Z",
          "iopub.status.idle": "2022-07-01T10:25:40.637701Z",
          "shell.execute_reply.started": "2022-07-01T10:25:40.630893Z",
          "shell.execute_reply": "2022-07-01T10:25:40.636538Z"
        },
        "trusted": true,
        "id": "0elA6mF5ldYV"
      },
      "execution_count": 10,
      "outputs": []
    },
    {
      "cell_type": "code",
      "source": [
        "tweets = data['clean_tweet']\n",
        "label = data['irony']"
      ],
      "metadata": {
        "execution": {
          "iopub.status.busy": "2022-07-01T10:25:41.42699Z",
          "iopub.execute_input": "2022-07-01T10:25:41.428124Z",
          "iopub.status.idle": "2022-07-01T10:25:41.43358Z",
          "shell.execute_reply.started": "2022-07-01T10:25:41.428081Z",
          "shell.execute_reply": "2022-07-01T10:25:41.432199Z"
        },
        "trusted": true,
        "id": "nM2tWE_QldYV"
      },
      "execution_count": 11,
      "outputs": []
    },
    {
      "cell_type": "code",
      "source": [
        "X_train, X_val, y_train, y_val = train_test_split(tweets, label, test_size=0.2, stratify=label, random_state=42)\n",
        "X_val, X_test, y_val, y_test = train_test_split(X_val, y_val, test_size=0.5, stratify=y_val, random_state=42)"
      ],
      "metadata": {
        "execution": {
          "iopub.status.busy": "2022-07-01T10:25:43.256752Z",
          "iopub.execute_input": "2022-07-01T10:25:43.25716Z",
          "iopub.status.idle": "2022-07-01T10:25:43.289325Z",
          "shell.execute_reply.started": "2022-07-01T10:25:43.257124Z",
          "shell.execute_reply": "2022-07-01T10:25:43.28816Z"
        },
        "trusted": true,
        "id": "erSe6-TjldYW"
      },
      "execution_count": 12,
      "outputs": []
    },
    {
      "cell_type": "code",
      "source": [
        "# tokenization\n",
        "max_len = 20       \n",
        "oov_token = '00_V' \n",
        "padding_type = 'post'\n",
        "trunc_type = 'post'  \n",
        "\n",
        "tokenizer = Tokenizer()\n",
        "tokenizer.fit_on_texts(X_train)\n",
        "vocab_size = len(tokenizer.word_index) + 1\n",
        "print(\"Vocab Size: \",vocab_size)"
      ],
      "metadata": {
        "execution": {
          "iopub.status.busy": "2022-07-01T10:25:44.968547Z",
          "iopub.execute_input": "2022-07-01T10:25:44.968956Z",
          "iopub.status.idle": "2022-07-01T10:25:45.572313Z",
          "shell.execute_reply.started": "2022-07-01T10:25:44.968912Z",
          "shell.execute_reply": "2022-07-01T10:25:45.571177Z"
        },
        "trusted": true,
        "colab": {
          "base_uri": "https://localhost:8080/"
        },
        "id": "SuRlQsleldYX",
        "outputId": "51ca6972-c961-435f-cd95-ff62e0cc5d82"
      },
      "execution_count": 13,
      "outputs": [
        {
          "output_type": "stream",
          "name": "stdout",
          "text": [
            "Vocab Size:  101248\n"
          ]
        }
      ]
    },
    {
      "cell_type": "code",
      "source": [
        "# encoding\n",
        "train_sequences = tokenizer.texts_to_sequences(X_train)\n",
        "X_train = pad_sequences(train_sequences, maxlen=max_len, padding=padding_type, truncating=trunc_type)\n",
        "\n",
        "val_sequences = tokenizer.texts_to_sequences(X_val)\n",
        "X_val = pad_sequences(val_sequences, maxlen=max_len, padding=padding_type, truncating=trunc_type)\n",
        "\n",
        "test_sequences = tokenizer.texts_to_sequences(X_test)\n",
        "X_test = pad_sequences(test_sequences, maxlen=max_len, padding=padding_type, truncating=trunc_type)"
      ],
      "metadata": {
        "execution": {
          "iopub.status.busy": "2022-07-01T10:25:47.974336Z",
          "iopub.execute_input": "2022-07-01T10:25:47.975506Z",
          "iopub.status.idle": "2022-07-01T10:25:48.702786Z",
          "shell.execute_reply.started": "2022-07-01T10:25:47.975461Z",
          "shell.execute_reply": "2022-07-01T10:25:48.701525Z"
        },
        "trusted": true,
        "id": "XM_6XvqyldYX"
      },
      "execution_count": 14,
      "outputs": []
    },
    {
      "cell_type": "code",
      "source": [
        "class TransformerEncoder(layers.Layer):\n",
        "    def __init__(self, embed_dim, heads, neurons):\n",
        "        super(TransformerEncoder, self).__init__()\n",
        "        self.att = layers.MultiHeadAttention(num_heads=heads, key_dim=embed_dim)\n",
        "        self.ffn = Sequential(\n",
        "            [layers.Dense(neurons, activation=\"relu\"), layers.Dense(embed_dim),]\n",
        "        )\n",
        "        self.layernorm1 = layers.LayerNormalization(epsilon=1e-6)\n",
        "        self.layernorm2 = layers.LayerNormalization(epsilon=1e-6)\n",
        "        self.dropout1 = layers.Dropout(0.5)\n",
        "        self.dropout2 = layers.Dropout(0.5)\n",
        "\n",
        "    def call(self, inputs, training):\n",
        "        attn_output = self.att(inputs, inputs)\n",
        "        attn_output = self.dropout1(attn_output, training=training)\n",
        "        out1 = self.layernorm1(inputs + attn_output)\n",
        "        ffn_output = self.ffn(out1)\n",
        "        ffn_output = self.dropout2(ffn_output, training=training)\n",
        "        return self.layernorm2(out1 + ffn_output)\n",
        "    \n",
        "class TokenAndPositionEmbedding(layers.Layer):\n",
        "    def __init__(self, maxlen, vocab_size, embed_dim):\n",
        "        super(TokenAndPositionEmbedding, self).__init__()\n",
        "        self.token_emb = layers.Embedding(input_dim=vocab_size, output_dim=embed_dim)\n",
        "        self.pos_emb = layers.Embedding(input_dim=maxlen, output_dim=embed_dim)\n",
        "\n",
        "    def call(self, x):\n",
        "        maxlen = tf.shape(x)[-1]\n",
        "        positions = tf.range(start=0, limit=maxlen, delta=1)\n",
        "        positions = self.pos_emb(positions)\n",
        "        x = self.token_emb(x)\n",
        "        return x + positions"
      ],
      "metadata": {
        "execution": {
          "iopub.status.busy": "2022-07-01T10:25:53.841738Z",
          "iopub.execute_input": "2022-07-01T10:25:53.842354Z",
          "iopub.status.idle": "2022-07-01T10:25:53.854655Z",
          "shell.execute_reply.started": "2022-07-01T10:25:53.842319Z",
          "shell.execute_reply": "2022-07-01T10:25:53.853556Z"
        },
        "trusted": true,
        "id": "JRdsTcmbldYY"
      },
      "execution_count": 15,
      "outputs": []
    },
    {
      "cell_type": "code",
      "source": [
        "# defining the actual model\n",
        "\n",
        "embed_dim = 50  \n",
        "heads = 2  \n",
        "neurons = 32\n",
        "maxlen = 20\n",
        "vocab_size = 20886\n",
        "\n",
        "inputs = layers.Input(shape=(maxlen,))\n",
        "embedding_layer = TokenAndPositionEmbedding(maxlen, vocab_size, embed_dim)\n",
        "x = embedding_layer(inputs)\n",
        "transformer_block = TransformerEncoder(embed_dim, heads, neurons)\n",
        "x = transformer_block(x)\n",
        "x = layers.GlobalAveragePooling1D()(x)\n",
        "x = Dropout(0.35)(x)\n",
        "outputs = layers.Dense(1, activation=\"sigmoid\")(x)\n",
        "model = Model(inputs=inputs, outputs=outputs)"
      ],
      "metadata": {
        "execution": {
          "iopub.status.busy": "2022-07-01T10:25:59.461811Z",
          "iopub.execute_input": "2022-07-01T10:25:59.462221Z",
          "iopub.status.idle": "2022-07-01T10:25:59.627942Z",
          "shell.execute_reply.started": "2022-07-01T10:25:59.462187Z",
          "shell.execute_reply": "2022-07-01T10:25:59.626612Z"
        },
        "trusted": true,
        "id": "UQU4t87fldYZ"
      },
      "execution_count": 16,
      "outputs": []
    },
    {
      "cell_type": "code",
      "source": [
        "model.compile(optimizer=tf.keras.optimizers.Adam(0.0003), loss='binary_crossentropy', metrics=['accuracy'])\n",
        "model.summary()"
      ],
      "metadata": {
        "execution": {
          "iopub.status.busy": "2022-07-01T10:26:01.328135Z",
          "iopub.execute_input": "2022-07-01T10:26:01.328483Z",
          "iopub.status.idle": "2022-07-01T10:26:01.349599Z",
          "shell.execute_reply.started": "2022-07-01T10:26:01.328452Z",
          "shell.execute_reply": "2022-07-01T10:26:01.34871Z"
        },
        "trusted": true,
        "colab": {
          "base_uri": "https://localhost:8080/"
        },
        "id": "IQTOxu35ldYZ",
        "outputId": "48a6fce2-a846-4444-a073-fca5e3349d60"
      },
      "execution_count": 17,
      "outputs": [
        {
          "output_type": "stream",
          "name": "stdout",
          "text": [
            "Model: \"model\"\n",
            "_________________________________________________________________\n",
            " Layer (type)                Output Shape              Param #   \n",
            "=================================================================\n",
            " input_1 (InputLayer)        [(None, 20)]              0         \n",
            "                                                                 \n",
            " token_and_position_embeddin  (None, 20, 50)           1045300   \n",
            " g (TokenAndPositionEmbeddin                                     \n",
            " g)                                                              \n",
            "                                                                 \n",
            " transformer_encoder (Transf  (None, 20, 50)           23832     \n",
            " ormerEncoder)                                                   \n",
            "                                                                 \n",
            " global_average_pooling1d (G  (None, 50)               0         \n",
            " lobalAveragePooling1D)                                          \n",
            "                                                                 \n",
            " dropout_2 (Dropout)         (None, 50)                0         \n",
            "                                                                 \n",
            " dense_2 (Dense)             (None, 1)                 51        \n",
            "                                                                 \n",
            "=================================================================\n",
            "Total params: 1,069,183\n",
            "Trainable params: 1,069,183\n",
            "Non-trainable params: 0\n",
            "_________________________________________________________________\n"
          ]
        }
      ]
    },
    {
      "cell_type": "markdown",
      "source": [
        "# 4. Training the Model"
      ],
      "metadata": {
        "id": "NuvWJv3aldYZ"
      }
    },
    {
      "cell_type": "code",
      "source": [
        "model_name = \"model.h5\"\n",
        "checkpoint = ModelCheckpoint(model_name,\n",
        "                            monitor=\"val_loss\",\n",
        "                            mode=\"min\",\n",
        "                            save_best_only = True,\n",
        "                            verbose=1)\n",
        "\n",
        "earlystopping = EarlyStopping(monitor='val_loss',min_delta = 0.001, patience = 1, verbose = 1)\n",
        "\n",
        "learning_rate_reduction = ReduceLROnPlateau(monitor='val_loss', \n",
        "                                            patience=3, \n",
        "                                            verbose=1, \n",
        "                                            factor=0.2, \n",
        "                                            min_lr=0.00000001)"
      ],
      "metadata": {
        "execution": {
          "iopub.status.busy": "2022-07-01T10:26:04.449906Z",
          "iopub.execute_input": "2022-07-01T10:26:04.450306Z",
          "iopub.status.idle": "2022-07-01T10:26:04.457312Z",
          "shell.execute_reply.started": "2022-07-01T10:26:04.450272Z",
          "shell.execute_reply": "2022-07-01T10:26:04.45608Z"
        },
        "trusted": true,
        "id": "uWxqRdhsldYZ"
      },
      "execution_count": 18,
      "outputs": []
    },
    {
      "cell_type": "code",
      "source": [
        "history = model.fit(X_train,y_train,\n",
        "                    validation_data=(X_val,y_val),\n",
        "                    epochs=10,\n",
        "                    batch_size=32,\n",
        "                    callbacks=None)"
      ],
      "metadata": {
        "execution": {
          "iopub.status.busy": "2022-07-01T10:26:07.016909Z",
          "iopub.execute_input": "2022-07-01T10:26:07.017254Z",
          "iopub.status.idle": "2022-07-01T10:27:55.697657Z",
          "shell.execute_reply.started": "2022-07-01T10:26:07.017226Z",
          "shell.execute_reply": "2022-07-01T10:27:55.696891Z"
        },
        "trusted": true,
        "colab": {
          "base_uri": "https://localhost:8080/"
        },
        "id": "Xba61S79ldYZ",
        "outputId": "3d4dd8c5-307d-4ce3-cb66-51f091d3af20"
      },
      "execution_count": 19,
      "outputs": [
        {
          "output_type": "stream",
          "name": "stdout",
          "text": [
            "Epoch 1/10\n",
            "2239/2239 [==============================] - 51s 19ms/step - loss: 0.5378 - accuracy: 0.7112 - val_loss: 0.5035 - val_accuracy: 0.7387\n",
            "Epoch 2/10\n",
            "2239/2239 [==============================] - 22s 10ms/step - loss: 0.4969 - accuracy: 0.7400 - val_loss: 0.5008 - val_accuracy: 0.7386\n",
            "Epoch 3/10\n",
            "2239/2239 [==============================] - 21s 9ms/step - loss: 0.4931 - accuracy: 0.7407 - val_loss: 0.5160 - val_accuracy: 0.7377\n",
            "Epoch 4/10\n",
            "2239/2239 [==============================] - 21s 9ms/step - loss: 0.4855 - accuracy: 0.7449 - val_loss: 0.5274 - val_accuracy: 0.7318\n",
            "Epoch 5/10\n",
            "2239/2239 [==============================] - 21s 9ms/step - loss: 0.4723 - accuracy: 0.7520 - val_loss: 0.5556 - val_accuracy: 0.7247\n",
            "Epoch 6/10\n",
            "2239/2239 [==============================] - 20s 9ms/step - loss: 0.4580 - accuracy: 0.7564 - val_loss: 0.6340 - val_accuracy: 0.7021\n",
            "Epoch 7/10\n",
            "2239/2239 [==============================] - 21s 9ms/step - loss: 0.4443 - accuracy: 0.7631 - val_loss: 0.6541 - val_accuracy: 0.6999\n",
            "Epoch 8/10\n",
            "2239/2239 [==============================] - 20s 9ms/step - loss: 0.4330 - accuracy: 0.7671 - val_loss: 0.8126 - val_accuracy: 0.6936\n",
            "Epoch 9/10\n",
            "2239/2239 [==============================] - 19s 9ms/step - loss: 0.4231 - accuracy: 0.7703 - val_loss: 0.9336 - val_accuracy: 0.6860\n",
            "Epoch 10/10\n",
            "2239/2239 [==============================] - 21s 9ms/step - loss: 0.4148 - accuracy: 0.7730 - val_loss: 1.0039 - val_accuracy: 0.6755\n"
          ]
        }
      ]
    },
    {
      "cell_type": "markdown",
      "source": [
        "# 5. Evaluating the Model"
      ],
      "metadata": {
        "id": "L8qOgTQOldYa"
      }
    },
    {
      "cell_type": "code",
      "source": [
        "plt.figure(figsize=(20,8))\n",
        "plt.plot(history.history['loss'])\n",
        "plt.plot(history.history['val_loss'])\n",
        "plt.title('model loss')\n",
        "plt.ylabel('loss')\n",
        "plt.xlabel('epoch')\n",
        "plt.legend(['train', 'val'], loc='upper left')\n",
        "plt.show()"
      ],
      "metadata": {
        "execution": {
          "iopub.status.busy": "2022-07-01T10:29:41.721245Z",
          "iopub.execute_input": "2022-07-01T10:29:41.721621Z",
          "iopub.status.idle": "2022-07-01T10:30:31.275249Z",
          "shell.execute_reply.started": "2022-07-01T10:29:41.721591Z",
          "shell.execute_reply": "2022-07-01T10:30:31.273952Z"
        },
        "trusted": true,
        "colab": {
          "base_uri": "https://localhost:8080/",
          "height": 467
        },
        "id": "-Zfrf_HDldYa",
        "outputId": "dda37cd1-d616-45e0-db18-5b3233e3ce02"
      },
      "execution_count": 20,
      "outputs": [
        {
          "output_type": "display_data",
          "data": {
            "text/plain": [
              "<Figure size 2000x800 with 1 Axes>"
            ],
            "image/png": "[encoded data removed]"
          },
          "metadata": {}
        }
      ]
    },
    {
      "cell_type": "code",
      "source": [
        "plt.figure(figsize=(20,8))\n",
        "plt.plot(history.history['accuracy'])\n",
        "plt.plot(history.history['val_accuracy'])\n",
        "plt.title('model accuracy')\n",
        "plt.ylabel('accuracy')\n",
        "plt.xlabel('epoch')\n",
        "plt.legend(['train', 'val'], loc='upper left')\n",
        "plt.show()"
      ],
      "metadata": {
        "execution": {
          "iopub.status.busy": "2022-07-01T10:30:31.277196Z",
          "iopub.execute_input": "2022-07-01T10:30:31.277724Z",
          "iopub.status.idle": "2022-07-01T10:30:31.577622Z",
          "shell.execute_reply.started": "2022-07-01T10:30:31.277692Z",
          "shell.execute_reply": "2022-07-01T10:30:31.576417Z"
        },
        "trusted": true,
        "colab": {
          "base_uri": "https://localhost:8080/",
          "height": 463
        },
        "id": "SIt6drwUldYa",
        "outputId": "2efe4f52-2583-4089-e9ed-3e2b86e27695"
      },
      "execution_count": 21,
      "outputs": [
        {
          "output_type": "display_data",
          "data": {
            "text/plain": [
              "<Figure size 2000x800 with 1 Axes>"
            ],
            "image/png": "[encoded data removed]"
          },
          "metadata": {}
        }
      ]
    },
    {
      "cell_type": "code",
      "source": [
        "from sklearn.metrics import classification_report, confusion_matrix, roc_curve, roc_auc_score\n",
        "\n",
        "y_pred = model.predict(X_test)"
      ],
      "metadata": {
        "colab": {
          "base_uri": "https://localhost:8080/"
        },
        "id": "cgopg2Hd4uOt",
        "outputId": "384af248-c608-44cf-d0a5-ac423f317480"
      },
      "execution_count": 22,
      "outputs": [
        {
          "output_type": "stream",
          "name": "stdout",
          "text": [
            "280/280 [==============================] - 1s 3ms/step\n"
          ]
        }
      ]
    },
    {
      "cell_type": "code",
      "source": [
        "y_pred[y_pred>=0.85] = 1\n",
        "y_pred[y_pred<0.85] = 0\n",
        "\n",
        "print(classification_report(y_test, y_pred))"
      ],
      "metadata": {
        "execution": {
          "iopub.status.busy": "2022-07-01T10:31:00.147584Z",
          "iopub.execute_input": "2022-07-01T10:31:00.148132Z",
          "iopub.status.idle": "2022-07-01T10:31:00.173525Z",
          "shell.execute_reply.started": "2022-07-01T10:31:00.148089Z",
          "shell.execute_reply": "2022-07-01T10:31:00.172333Z"
        },
        "trusted": true,
        "colab": {
          "base_uri": "https://localhost:8080/"
        },
        "id": "r0UNym39ldYb",
        "outputId": "721b5ace-d1e5-49ae-c07c-60cb249309f4"
      },
      "execution_count": 23,
      "outputs": [
        {
          "output_type": "stream",
          "name": "stdout",
          "text": [
            "              precision    recall  f1-score   support\n",
            "\n",
            "           0       0.49      0.81      0.61      4375\n",
            "           1       0.50      0.18      0.26      4579\n",
            "\n",
            "    accuracy                           0.49      8954\n",
            "   macro avg       0.49      0.50      0.44      8954\n",
            "weighted avg       0.49      0.49      0.43      8954\n",
            "\n"
          ]
        }
      ]
    },
    {
      "cell_type": "code",
      "source": [
        "plt.figure(figsize=(10,8))\n",
        "sns.heatmap(confusion_matrix(y_test,y_pred),annot=True,fmt='.4g',cmap='viridis')"
      ],
      "metadata": {
        "execution": {
          "iopub.status.busy": "2022-07-01T10:31:05.903516Z",
          "iopub.execute_input": "2022-07-01T10:31:05.903892Z",
          "iopub.status.idle": "2022-07-01T10:31:06.140651Z",
          "shell.execute_reply.started": "2022-07-01T10:31:05.903859Z",
          "shell.execute_reply": "2022-07-01T10:31:06.139804Z"
        },
        "trusted": true,
        "colab": {
          "base_uri": "https://localhost:8080/",
          "height": 704
        },
        "id": "xLmXjgcHldYb",
        "outputId": "f6dff6ea-a061-4f2b-8579-a94607db03d8"
      },
      "execution_count": 24,
      "outputs": [
        {
          "output_type": "execute_result",
          "data": {
            "text/plain": [
              "<Axes: >"
            ]
          },
          "metadata": {},
          "execution_count": 24
        },
        {
          "output_type": "display_data",
          "data": {
            "text/plain": [
              "<Figure size 1000x800 with 2 Axes>"
            ],
            "image/png": "[encoded data removed]"
          },
          "metadata": {}
        }
      ]
    }
  ]
}
